{
 "cells": [
  {
   "cell_type": "code",
   "execution_count": 1,
   "id": "61724e9b",
   "metadata": {},
   "outputs": [
    {
     "ename": "ModuleNotFoundError",
     "evalue": "No module named 'skimage'",
     "output_type": "error",
     "traceback": [
      "\u001b[1;31m---------------------------------------------------------------------------\u001b[0m",
      "\u001b[1;31mModuleNotFoundError\u001b[0m                       Traceback (most recent call last)",
      "\u001b[1;32m~\\AppData\\Local\\Temp/ipykernel_26300/2174055629.py\u001b[0m in \u001b[0;36m<module>\u001b[1;34m\u001b[0m\n\u001b[1;32m----> 1\u001b[1;33m \u001b[1;32mimport\u001b[0m \u001b[0msganTorch\u001b[0m \u001b[1;32mas\u001b[0m \u001b[0msgan\u001b[0m\u001b[1;33m\u001b[0m\u001b[1;33m\u001b[0m\u001b[0m\n\u001b[0m\u001b[0;32m      2\u001b[0m \u001b[1;32mimport\u001b[0m \u001b[0msys\u001b[0m\u001b[1;33m\u001b[0m\u001b[1;33m\u001b[0m\u001b[0m\n\u001b[0;32m      3\u001b[0m \u001b[1;32mimport\u001b[0m \u001b[0mtorch\u001b[0m\u001b[1;33m\u001b[0m\u001b[1;33m\u001b[0m\u001b[0m\n\u001b[0;32m      4\u001b[0m \u001b[1;32mimport\u001b[0m \u001b[0mnumpy\u001b[0m\u001b[1;33m\u001b[0m\u001b[1;33m\u001b[0m\u001b[0m\n\u001b[0;32m      5\u001b[0m \u001b[1;32mfrom\u001b[0m \u001b[0mskimage\u001b[0m \u001b[1;32mimport\u001b[0m \u001b[0mio\u001b[0m\u001b[1;33m\u001b[0m\u001b[1;33m\u001b[0m\u001b[0m\n",
      "\u001b[1;32m~\\Documents\\GitHub\\wsgan\\sganTorch.py\u001b[0m in \u001b[0;36m<module>\u001b[1;34m\u001b[0m\n\u001b[0;32m      3\u001b[0m \u001b[1;32mfrom\u001b[0m \u001b[0mtorch\u001b[0m \u001b[1;32mimport\u001b[0m \u001b[0moptim\u001b[0m\u001b[1;33m\u001b[0m\u001b[1;33m\u001b[0m\u001b[0m\n\u001b[0;32m      4\u001b[0m \u001b[1;33m\u001b[0m\u001b[0m\n\u001b[1;32m----> 5\u001b[1;33m \u001b[1;32mfrom\u001b[0m \u001b[0mskimage\u001b[0m \u001b[1;32mimport\u001b[0m \u001b[0mio\u001b[0m\u001b[1;33m\u001b[0m\u001b[1;33m\u001b[0m\u001b[0m\n\u001b[0m\u001b[0;32m      6\u001b[0m \u001b[1;32mimport\u001b[0m \u001b[0mnumpy\u001b[0m\u001b[1;33m\u001b[0m\u001b[1;33m\u001b[0m\u001b[0m\n\u001b[0;32m      7\u001b[0m \u001b[1;33m\u001b[0m\u001b[0m\n",
      "\u001b[1;31mModuleNotFoundError\u001b[0m: No module named 'skimage'"
     ]
    }
   ],
   "source": [
    "import sganTorch as sgan\n",
    "import sys\n",
    "import torch\n",
    "import numpy\n",
    "from skimage import io\n",
    "\n",
    "cuda = False"
   ]
  },
  {
   "cell_type": "code",
   "execution_count": null,
   "id": "7d47b578",
   "metadata": {},
   "outputs": [],
   "source": []
  },
  {
   "cell_type": "code",
   "execution_count": null,
   "id": "98e9ad31",
   "metadata": {},
   "outputs": [],
   "source": [
    "import sganTorch as sgan\n",
    "import sys\n",
    "import torch\n",
    "import numpy\n",
    "from skimage import io\n",
    "\n",
    "cuda = False\n",
    "\n",
    "# Code to generate large textures based on the generator model\n",
    "\n",
    "def main():\n",
    "    \n",
    "    config = sgan.Config(6)\n",
    "    gen = sgan.NetG(config)\n",
    "    if cuda:\n",
    "        gen = gen.cuda()\n",
    "\n",
    "    if cuda:\n",
    "        gen.load_state_dict(torch.load(sys.argv[1]))\n",
    "    else:\n",
    "        gen.load_state_dict(torch.load(sys.argv[1], map_location=torch.device('cpu')))\n",
    "\n",
    "    genZX = 60\n",
    "\n",
    "    modelName = sys.argv[1].split('/')[-1].split('.')[0]\n",
    "\n",
    "    for i in range(5):\n",
    "        noise = torch.FloatTensor(1, config.nz, genZX, genZX).uniform_(-1, 1)\n",
    "        if cuda:\n",
    "            noise = noise.cuda()\n",
    "        output = gen(noise)\n",
    "        imfake = output.detach().cpu().numpy()[0, :, :, :]\n",
    "        im = numpy.zeros((imfake.shape[1], imfake.shape[2], imfake.shape[0]))\n",
    "        im[:, :, 0] = imfake[0, :, :]\n",
    "        im[:, :, 1] = imfake[1, :, :]\n",
    "        im[:, :, 2] = imfake[2, :, :]\n",
    "        io.imsave(f\"samples/stored_{sgan.datasetVersion}_{modelName}_{i}.png\", im)\n",
    "\n",
    "if __name__ == \"__main__\":\n",
    "    main()\n"
   ]
  }
 ],
 "metadata": {
  "kernelspec": {
   "display_name": "Python 3 (ipykernel)",
   "language": "python",
   "name": "python3"
  },
  "language_info": {
   "codemirror_mode": {
    "name": "ipython",
    "version": 3
   },
   "file_extension": ".py",
   "mimetype": "text/x-python",
   "name": "python",
   "nbconvert_exporter": "python",
   "pygments_lexer": "ipython3",
   "version": "3.9.9"
  }
 },
 "nbformat": 4,
 "nbformat_minor": 5
}
